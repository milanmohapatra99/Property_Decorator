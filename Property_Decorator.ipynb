{
 "cells": [
  {
   "cell_type": "code",
   "execution_count": 5,
   "id": "47da445d",
   "metadata": {},
   "outputs": [
    {
     "name": "stdout",
     "output_type": "stream",
     "text": [
      "5900\n"
     ]
    }
   ],
   "source": [
    "class Employee:\n",
    "    company = \"Hindustan Petrolium Gas\"\n",
    "    salary = 5600\n",
    "    salarybonous = 300\n",
    "    @property\n",
    "    def totalSalary(self):\n",
    "        return self.salary + self.salarybonous\n",
    "e = Employee() \n",
    "print(e.totalSalary)\n"
   ]
  },
  {
   "cell_type": "code",
   "execution_count": 8,
   "id": "3d53f540",
   "metadata": {},
   "outputs": [
    {
     "name": "stdout",
     "output_type": "stream",
     "text": [
      "6000\n",
      "5600\n",
      "5800\n"
     ]
    }
   ],
   "source": [
    "class Employee:\n",
    "    company = \"Hindustan Petrolium Gas\"\n",
    "    salary = 5600\n",
    "    salarybonous = 400\n",
    "    @property\n",
    "    def totalSalary(self):\n",
    "        return self.salary + self.salarybonous\n",
    "    @totalSalary.setter\n",
    "    def totalSalary(self,val):\n",
    "        self.salarybonous = val - self.salary \n",
    "        \n",
    "e = Employee() \n",
    "print(e.totalSalary)\n",
    "e.totalSalary = 5800\n",
    "print(e.salary)\n",
    "print(e.totalSalary)\n",
    "\n"
   ]
  },
  {
   "cell_type": "code",
   "execution_count": null,
   "id": "0fcb856a",
   "metadata": {},
   "outputs": [],
   "source": []
  }
 ],
 "metadata": {
  "kernelspec": {
   "display_name": "Python 3 (ipykernel)",
   "language": "python",
   "name": "python3"
  },
  "language_info": {
   "codemirror_mode": {
    "name": "ipython",
    "version": 3
   },
   "file_extension": ".py",
   "mimetype": "text/x-python",
   "name": "python",
   "nbconvert_exporter": "python",
   "pygments_lexer": "ipython3",
   "version": "3.9.7"
  }
 },
 "nbformat": 4,
 "nbformat_minor": 5
}
